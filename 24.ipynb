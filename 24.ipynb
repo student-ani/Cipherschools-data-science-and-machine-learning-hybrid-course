{
 "cells": [
  {
   "cell_type": "code",
   "execution_count": null,
   "metadata": {},
   "outputs": [],
   "source": [
    "import numpy as np\n",
    "import pandas as pd\n",
    "from tabulate import tabulate\n",
    "\n",
    "# Generate random data\n",
    "data = {\n",
    "    'Age': np.random.normal(30, 10, 100).astype(int),\n",
    "    'Annual Income': np.random.normal(50, 20, 100).astype(int),\n",
    "    'Spending Score': np.random.normal(1, 100, 100).astype(int),\n",
    "    'Credit Score': np.random.normal(600, 100, 100).astype(int),\n",
    "    'Debt': np.random.normal(1000, 500, 100).astype(int),\n",
    "    'Credit Limit': np.random.normal(5000, 2000, 100).astype(int)\n",
    "}\n",
    "\n",
    "# Create DataFrame\n",
    "df = pd.DataFrame(data)\n",
    "\n",
    "# Calculate correlation matrix\n",
    "matrix = df.corr()\n",
    "\n",
    "# Display correlation matrix using tabulate\n",
    "print(tabulate(matrix, headers='keys', tablefmt='grid', numalign='right', floatfmt=\".2f\"))"
   ]
  }
 ],
 "metadata": {
  "language_info": {
   "name": "python"
  }
 },
 "nbformat": 4,
 "nbformat_minor": 2
}
