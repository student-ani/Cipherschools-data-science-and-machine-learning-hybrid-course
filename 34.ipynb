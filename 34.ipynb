{
 "cells": [
  {
   "cell_type": "code",
   "execution_count": null,
   "metadata": {},
   "outputs": [],
   "source": [
    "import pandas as pd\n",
    "import nltk \n",
    "data=pd.read_excel('ml ds/training dataset.xlsx')\n",
    "#data preprocessing\n",
    "nltk.download('punkt')\n",
    "data['Concept']=data['Concept'].apply(lambda x: ' '.join(nltk.word_tokenize(x.lower())))\n",
    "print(data.head())\n",
    "\n",
    "\n",
    "#vectorise text data\n",
    "#Convert text data into numerical using TF-IDF (term frequency-inverse document frequency)VECTORIZATION.\n",
    "\n",
    "\n",
    "from sklearn.feature_extraction.text import TfidfVectorizer\n",
    "vector=TfidfVectorizer()\n",
    "X=vector.fit_transform(data['Concept'])\n",
    "print(X.shape)\n",
    "\n",
    "#train a text classification model\n",
    "#Train a text classification model using the vectorised data and the labels.\n",
    "\n",
    "from sklearn.naive_bayes import MultinomialNB\n",
    "from sklearn.pipeline import make_pipeline\n",
    "from sklearn.model_selection import train_test_split\n",
    "\n",
    "#split\n",
    "x_train,x_test,y_train,y_test= train_test_split(data['Concept'], data['Description'], test_size=0.2, random_state=42)\n",
    "\n",
    "#create model pipeline\n",
    "model= make_pipeline(TfidfVectorizer(),MultinomialNB() )\n",
    "\n",
    "#training\n",
    "model.fit(x_train,y_train)\n",
    "print(\"completed training\")\n",
    "\n",
    "\n",
    "#implement a function to get respond from chat bot\n",
    "def get_response(question):\n",
    "    question = ' '.join(nltk.word_tokenize(question.lower()))\n",
    "    answer = model.predict([question])[0]\n",
    "    return answer\n",
    "\n",
    "# Testing\n",
    "print(get_response(\"What is machine learning?\"))"
   ]
  }
 ],
 "metadata": {
  "language_info": {
   "name": "python"
  }
 },
 "nbformat": 4,
 "nbformat_minor": 2
}
