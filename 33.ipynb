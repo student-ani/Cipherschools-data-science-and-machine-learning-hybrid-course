{
 "cells": [
  {
   "cell_type": "code",
   "execution_count": null,
   "metadata": {},
   "outputs": [],
   "source": [
    "#1 tokenizing\n",
    "\n",
    "import nltk \n",
    "nltk.download('punkt')\n",
    "from nltk.tokenize import word_tokenize\n",
    "\n",
    "text=\"NLP is quite fascinating\"\n",
    "tokens=word_tokenize(text)\n",
    "print(tokens)\n",
    "\n",
    "\n",
    "#2stemming\n",
    "\n",
    "from nltk.stem import PorterStemmer\n",
    "\n",
    "stemmer = PorterStemmer()\n",
    "words=['eating','eats','ate']\n",
    "wordss=[\"running\",\"ran\",\"runs\"]\n",
    "stems=[stemmer.stem(word) for word in words]\n",
    "print(stems)\n",
    "\n",
    "\n",
    "#3 Lemmatization\n",
    "from nltk.stem import WordNetLemmatizer\n",
    "nltk.download('wordnet')\n",
    "\n",
    "lemmatizer = WordNetLemmatizer()\n",
    "words=['eating','eats','ate']\n",
    "lemmas=[lemmatizer.lemmatize(word,pos='v') for word in words]\n",
    "print(lemmas)\n",
    "\n",
    "#4 stop words\n",
    "from nltk.corpus import stopwords\n",
    "nltk.download('stopwords')\n",
    "stop_words = set(stopwords.words('english'))\n",
    "#print(stop_words)\n",
    "filtered_text= [word for word in tokens if word.lower() not in stop_words]\n",
    "print(filtered_text)"
   ]
  }
 ],
 "metadata": {
  "language_info": {
   "name": "python"
  }
 },
 "nbformat": 4,
 "nbformat_minor": 2
}
