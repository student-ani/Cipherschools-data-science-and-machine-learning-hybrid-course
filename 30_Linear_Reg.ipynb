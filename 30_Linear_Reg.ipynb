{
 "cells": [
  {
   "cell_type": "code",
   "execution_count": null,
   "metadata": {},
   "outputs": [],
   "source": [
    "# Linear Regression\n",
    "from sklearn.model_selection import train_test_split.\n",
    "from sklearn.linear_model import LinearRegression\n",
    "from sklearn.metrics import mean_squared_error\n",
    "\n",
    "#Generating synthetic data\n",
    "import numpy as np\n",
    "x=np.random.rand(100,1)*10\n",
    "y=2.5*x+np.random.randn(100,1)*2\n",
    "\n",
    "\n",
    "#spliting data into training and testing sets...\n",
    "x_train,x_test,y_train,y_test=train_test_split(x,y,test_size=0.2,random_state=42)  \n",
    "\n",
    "\n",
    "#Training the model\n",
    "model=LinearRegression()\n",
    "model.fit(x_train,y_train)\n",
    "#Predicting the test set results\n",
    "y_pred=model.predict(x_test)\n",
    "#Calculating the mean squared error (EVALUATION)\n",
    "mse=mean_squared_error(y_test,y_pred)\n",
    "print(\"mse->\",mse)\n",
    "\n",
    "#print(y_test)"
   ]
  }
 ],
 "metadata": {
  "language_info": {
   "name": "python"
  }
 },
 "nbformat": 4,
 "nbformat_minor": 2
}
