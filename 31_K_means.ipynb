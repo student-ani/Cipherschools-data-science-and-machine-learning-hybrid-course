{
 "cells": [
  {
   "cell_type": "code",
   "execution_count": null,
   "metadata": {},
   "outputs": [],
   "source": [
    "# k means aims to partation into k clusters\n",
    "# k means is an unsupervised learning algorithm\n",
    "# k means is a clustering algorithm\n",
    "# k means is a centroid based algorithm\n",
    "\n",
    "from sklearn.datasets import make_blobs\n",
    "from sklearn.cluster import KMeans\n",
    "import matplotlib.pyplot as plt\n",
    "\n",
    "#generating data\n",
    "x, y = make_blobs(n_samples=300, centers=4, cluster_std=0.60,random_state=0)\n",
    "\n",
    "#Training\n",
    "model = KMeans(n_clusters=4)\n",
    "y_pred= model.fit_predict(x)\n",
    "\n",
    "#plotting result\n",
    "\n",
    "plt.scatter(x[:,0], x[:,1],c=y_pred,cmap='rainbow')\n",
    "plt.scatter(model.cluster_centers_[:,0], model.cluster_centers_[:,1], s=300, c='black',marker='X')\n",
    "plt.show()"
   ]
  }
 ],
 "metadata": {
  "language_info": {
   "name": "python"
  }
 },
 "nbformat": 4,
 "nbformat_minor": 2
}
